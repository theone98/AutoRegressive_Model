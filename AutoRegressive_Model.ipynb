{
  "nbformat": 4,
  "nbformat_minor": 0,
  "metadata": {
    "colab": {
      "name": "AutoRegressive_Model.ipynb",
      "provenance": []
    },
    "kernelspec": {
      "name": "python3",
      "display_name": "Python 3"
    }
  },
  "cells": [
    {
      "cell_type": "code",
      "metadata": {
        "id": "UgWik9qV-Jh5",
        "colab_type": "code",
        "colab": {
          "base_uri": "https://localhost:8080/",
          "height": 1000
        },
        "outputId": "c53756e7-5dae-4645-d6a6-9e81602a27f9"
      },
      "source": [
        "!pip install --upgrade tensorflow"
      ],
      "execution_count": 1,
      "outputs": [
        {
          "output_type": "stream",
          "text": [
            "Collecting tensorflow\n",
            "\u001b[?25l  Downloading https://files.pythonhosted.org/packages/46/0f/7bd55361168bb32796b360ad15a25de6966c9c1beb58a8e30c01c8279862/tensorflow-2.0.0-cp36-cp36m-manylinux2010_x86_64.whl (86.3MB)\n",
            "\u001b[K     |████████████████████████████████| 86.3MB 73kB/s \n",
            "\u001b[?25hRequirement already satisfied, skipping upgrade: gast==0.2.2 in /usr/local/lib/python3.6/dist-packages (from tensorflow) (0.2.2)\n",
            "Requirement already satisfied, skipping upgrade: keras-preprocessing>=1.0.5 in /usr/local/lib/python3.6/dist-packages (from tensorflow) (1.1.0)\n",
            "Requirement already satisfied, skipping upgrade: opt-einsum>=2.3.2 in /usr/local/lib/python3.6/dist-packages (from tensorflow) (3.1.0)\n",
            "Requirement already satisfied, skipping upgrade: keras-applications>=1.0.8 in /usr/local/lib/python3.6/dist-packages (from tensorflow) (1.0.8)\n",
            "Requirement already satisfied, skipping upgrade: six>=1.10.0 in /usr/local/lib/python3.6/dist-packages (from tensorflow) (1.12.0)\n",
            "Requirement already satisfied, skipping upgrade: wheel>=0.26 in /usr/local/lib/python3.6/dist-packages (from tensorflow) (0.33.6)\n",
            "Requirement already satisfied, skipping upgrade: termcolor>=1.1.0 in /usr/local/lib/python3.6/dist-packages (from tensorflow) (1.1.0)\n",
            "Collecting tensorboard<2.1.0,>=2.0.0\n",
            "\u001b[?25l  Downloading https://files.pythonhosted.org/packages/76/54/99b9d5d52d5cb732f099baaaf7740403e83fe6b0cedde940fabd2b13d75a/tensorboard-2.0.2-py3-none-any.whl (3.8MB)\n",
            "\u001b[K     |████████████████████████████████| 3.8MB 40.4MB/s \n",
            "\u001b[?25hRequirement already satisfied, skipping upgrade: absl-py>=0.7.0 in /usr/local/lib/python3.6/dist-packages (from tensorflow) (0.8.1)\n",
            "Requirement already satisfied, skipping upgrade: google-pasta>=0.1.6 in /usr/local/lib/python3.6/dist-packages (from tensorflow) (0.1.8)\n",
            "Requirement already satisfied, skipping upgrade: protobuf>=3.6.1 in /usr/local/lib/python3.6/dist-packages (from tensorflow) (3.10.0)\n",
            "Requirement already satisfied, skipping upgrade: wrapt>=1.11.1 in /usr/local/lib/python3.6/dist-packages (from tensorflow) (1.11.2)\n",
            "Requirement already satisfied, skipping upgrade: grpcio>=1.8.6 in /usr/local/lib/python3.6/dist-packages (from tensorflow) (1.15.0)\n",
            "Requirement already satisfied, skipping upgrade: astor>=0.6.0 in /usr/local/lib/python3.6/dist-packages (from tensorflow) (0.8.1)\n",
            "Collecting tensorflow-estimator<2.1.0,>=2.0.0\n",
            "\u001b[?25l  Downloading https://files.pythonhosted.org/packages/fc/08/8b927337b7019c374719145d1dceba21a8bb909b93b1ad6f8fb7d22c1ca1/tensorflow_estimator-2.0.1-py2.py3-none-any.whl (449kB)\n",
            "\u001b[K     |████████████████████████████████| 450kB 41.9MB/s \n",
            "\u001b[?25hRequirement already satisfied, skipping upgrade: numpy<2.0,>=1.16.0 in /usr/local/lib/python3.6/dist-packages (from tensorflow) (1.17.4)\n",
            "Requirement already satisfied, skipping upgrade: h5py in /usr/local/lib/python3.6/dist-packages (from keras-applications>=1.0.8->tensorflow) (2.8.0)\n",
            "Requirement already satisfied, skipping upgrade: google-auth-oauthlib<0.5,>=0.4.1 in /usr/local/lib/python3.6/dist-packages (from tensorboard<2.1.0,>=2.0.0->tensorflow) (0.4.1)\n",
            "Requirement already satisfied, skipping upgrade: requests<3,>=2.21.0 in /usr/local/lib/python3.6/dist-packages (from tensorboard<2.1.0,>=2.0.0->tensorflow) (2.21.0)\n",
            "Requirement already satisfied, skipping upgrade: werkzeug>=0.11.15 in /usr/local/lib/python3.6/dist-packages (from tensorboard<2.1.0,>=2.0.0->tensorflow) (0.16.0)\n",
            "Collecting google-auth<2,>=1.6.3\n",
            "\u001b[?25l  Downloading https://files.pythonhosted.org/packages/36/f8/84b5771faec3eba9fe0c91c8c5896364a8ba08852c0dea5ad2025026dd95/google_auth-1.10.0-py2.py3-none-any.whl (76kB)\n",
            "\u001b[K     |████████████████████████████████| 81kB 10.8MB/s \n",
            "\u001b[?25hRequirement already satisfied, skipping upgrade: setuptools>=41.0.0 in /usr/local/lib/python3.6/dist-packages (from tensorboard<2.1.0,>=2.0.0->tensorflow) (42.0.2)\n",
            "Requirement already satisfied, skipping upgrade: markdown>=2.6.8 in /usr/local/lib/python3.6/dist-packages (from tensorboard<2.1.0,>=2.0.0->tensorflow) (3.1.1)\n",
            "Requirement already satisfied, skipping upgrade: requests-oauthlib>=0.7.0 in /usr/local/lib/python3.6/dist-packages (from google-auth-oauthlib<0.5,>=0.4.1->tensorboard<2.1.0,>=2.0.0->tensorflow) (1.3.0)\n",
            "Requirement already satisfied, skipping upgrade: idna<2.9,>=2.5 in /usr/local/lib/python3.6/dist-packages (from requests<3,>=2.21.0->tensorboard<2.1.0,>=2.0.0->tensorflow) (2.8)\n",
            "Requirement already satisfied, skipping upgrade: chardet<3.1.0,>=3.0.2 in /usr/local/lib/python3.6/dist-packages (from requests<3,>=2.21.0->tensorboard<2.1.0,>=2.0.0->tensorflow) (3.0.4)\n",
            "Requirement already satisfied, skipping upgrade: urllib3<1.25,>=1.21.1 in /usr/local/lib/python3.6/dist-packages (from requests<3,>=2.21.0->tensorboard<2.1.0,>=2.0.0->tensorflow) (1.24.3)\n",
            "Requirement already satisfied, skipping upgrade: certifi>=2017.4.17 in /usr/local/lib/python3.6/dist-packages (from requests<3,>=2.21.0->tensorboard<2.1.0,>=2.0.0->tensorflow) (2019.11.28)\n",
            "Requirement already satisfied, skipping upgrade: cachetools<5.0,>=2.0.0 in /usr/local/lib/python3.6/dist-packages (from google-auth<2,>=1.6.3->tensorboard<2.1.0,>=2.0.0->tensorflow) (4.0.0)\n",
            "Requirement already satisfied, skipping upgrade: pyasn1-modules>=0.2.1 in /usr/local/lib/python3.6/dist-packages (from google-auth<2,>=1.6.3->tensorboard<2.1.0,>=2.0.0->tensorflow) (0.2.7)\n",
            "Requirement already satisfied, skipping upgrade: rsa<4.1,>=3.1.4 in /usr/local/lib/python3.6/dist-packages (from google-auth<2,>=1.6.3->tensorboard<2.1.0,>=2.0.0->tensorflow) (4.0)\n",
            "Requirement already satisfied, skipping upgrade: oauthlib>=3.0.0 in /usr/local/lib/python3.6/dist-packages (from requests-oauthlib>=0.7.0->google-auth-oauthlib<0.5,>=0.4.1->tensorboard<2.1.0,>=2.0.0->tensorflow) (3.1.0)\n",
            "Requirement already satisfied, skipping upgrade: pyasn1<0.5.0,>=0.4.6 in /usr/local/lib/python3.6/dist-packages (from pyasn1-modules>=0.2.1->google-auth<2,>=1.6.3->tensorboard<2.1.0,>=2.0.0->tensorflow) (0.4.8)\n",
            "\u001b[31mERROR: tensorboard 2.0.2 has requirement grpcio>=1.24.3, but you'll have grpcio 1.15.0 which is incompatible.\u001b[0m\n",
            "\u001b[31mERROR: google-colab 1.0.0 has requirement google-auth~=1.4.0, but you'll have google-auth 1.10.0 which is incompatible.\u001b[0m\n",
            "Installing collected packages: google-auth, tensorboard, tensorflow-estimator, tensorflow\n",
            "  Found existing installation: google-auth 1.4.2\n",
            "    Uninstalling google-auth-1.4.2:\n",
            "      Successfully uninstalled google-auth-1.4.2\n",
            "  Found existing installation: tensorboard 1.15.0\n",
            "    Uninstalling tensorboard-1.15.0:\n",
            "      Successfully uninstalled tensorboard-1.15.0\n",
            "  Found existing installation: tensorflow-estimator 1.15.1\n",
            "    Uninstalling tensorflow-estimator-1.15.1:\n",
            "      Successfully uninstalled tensorflow-estimator-1.15.1\n",
            "  Found existing installation: tensorflow 1.15.0\n",
            "    Uninstalling tensorflow-1.15.0:\n",
            "      Successfully uninstalled tensorflow-1.15.0\n",
            "Successfully installed google-auth-1.10.0 tensorboard-2.0.2 tensorflow-2.0.0 tensorflow-estimator-2.0.1\n"
          ],
          "name": "stdout"
        },
        {
          "output_type": "display_data",
          "data": {
            "application/vnd.colab-display-data+json": {
              "pip_warning": {
                "packages": [
                  "google"
                ]
              }
            }
          },
          "metadata": {
            "tags": []
          }
        }
      ]
    },
    {
      "cell_type": "code",
      "metadata": {
        "id": "-skuMQ7C-5oT",
        "colab_type": "code",
        "colab": {}
      },
      "source": [
        "from tensorflow.keras.layers import Input, Dense\n",
        "from tensorflow.keras.models import Model\n",
        "from tensorflow.keras.optimizers import SGD, Adam\n",
        "\n",
        "import numpy as np\n",
        "import pandas as pd\n",
        "import matplotlib.pyplot as plt"
      ],
      "execution_count": 0,
      "outputs": []
    },
    {
      "cell_type": "code",
      "metadata": {
        "id": "pAIbl_40_b0p",
        "colab_type": "code",
        "colab": {
          "base_uri": "https://localhost:8080/",
          "height": 265
        },
        "outputId": "f12740bb-d4b7-4801-be50-8e085db47c24"
      },
      "source": [
        "# make the original data\n",
        "series = np.sin(0.1*np.arange(200)) #+ np.random.randn(200)*0.1\n",
        "\n",
        "# plot it\n",
        "plt.plot(series)\n",
        "plt.show()"
      ],
      "execution_count": 2,
      "outputs": [
        {
          "output_type": "display_data",
          "data": {
            "image/png": "[encoded data removed]",
            "text/plain": [
              "<Figure size 432x288 with 1 Axes>"
            ]
          },
          "metadata": {
            "tags": []
          }
        }
      ]
    },
    {
      "cell_type": "code",
      "metadata": {
        "id": "pIat47ei_ft1",
        "colab_type": "code",
        "colab": {
          "base_uri": "https://localhost:8080/",
          "height": 34
        },
        "outputId": "000b0ff9-f432-406a-dbeb-3d4fb779b902"
      },
      "source": [
        "### build the dataset\n",
        "# let's see if we can use T past values to predict the next value\n",
        "T = 10\n",
        "X = []\n",
        "Y = []\n",
        "for t in range(len(series) - T):\n",
        "  x = series[t:t+T]\n",
        "  X.append(x)\n",
        "  y = series[t+T]\n",
        "  Y.append(y)\n",
        "\n",
        "X = np.array(X).reshape(-1, T)\n",
        "Y = np.array(Y)\n",
        "N = len(X)\n",
        "print(\"X.shape\", X.shape, \"Y.shape\", Y.shape)"
      ],
      "execution_count": 3,
      "outputs": [
        {
          "output_type": "stream",
          "text": [
            "X.shape (190, 10) Y.shape (190,)\n"
          ],
          "name": "stdout"
        }
      ]
    },
    {
      "cell_type": "code",
      "metadata": {
        "id": "ZFnZKwIe_jEZ",
        "colab_type": "code",
        "colab": {
          "base_uri": "https://localhost:8080/",
          "height": 1000
        },
        "outputId": "49300d50-dee0-44bb-e78b-f39fe2b9a49f"
      },
      "source": [
        "### try autoregressive linear model\n",
        "i = Input(shape=(T,))\n",
        "x = Dense(1)(i)\n",
        "model = Model(i, x)\n",
        "model.compile(\n",
        "  loss='mse',\n",
        "  optimizer=Adam(lr=0.1),\n",
        ")\n",
        "\n",
        "# train the RNN\n",
        "r = model.fit(\n",
        "  X[:-N//2], Y[:-N//2],\n",
        "  epochs=80,\n",
        "  validation_data=(X[-N//2:], Y[-N//2:]),\n",
        ")"
      ],
      "execution_count": 4,
      "outputs": [
        {
          "output_type": "stream",
          "text": [
            "Train on 95 samples, validate on 95 samples\n",
            "Epoch 1/80\n",
            "95/95 [==============================] - 1s 7ms/sample - loss: 1.0263 - val_loss: 0.1221\n",
            "Epoch 2/80\n",
            "95/95 [==============================] - 0s 312us/sample - loss: 0.4687 - val_loss: 0.5114\n",
            "Epoch 3/80\n",
            "95/95 [==============================] - 0s 299us/sample - loss: 0.4102 - val_loss: 0.0245\n",
            "Epoch 4/80\n",
            "95/95 [==============================] - 0s 250us/sample - loss: 0.0385 - val_loss: 0.1581\n",
            "Epoch 5/80\n",
            "95/95 [==============================] - 0s 265us/sample - loss: 0.2579 - val_loss: 0.1372\n",
            "Epoch 6/80\n",
            "95/95 [==============================] - 0s 242us/sample - loss: 0.1064 - val_loss: 0.0106\n",
            "Epoch 7/80\n",
            "95/95 [==============================] - 0s 282us/sample - loss: 0.0350 - val_loss: 0.1129\n",
            "Epoch 8/80\n",
            "95/95 [==============================] - 0s 237us/sample - loss: 0.1110 - val_loss: 0.0501\n",
            "Epoch 9/80\n",
            "95/95 [==============================] - 0s 257us/sample - loss: 0.0267 - val_loss: 0.0091\n",
            "Epoch 10/80\n",
            "95/95 [==============================] - 0s 236us/sample - loss: 0.0315 - val_loss: 0.0600\n",
            "Epoch 11/80\n",
            "95/95 [==============================] - 0s 251us/sample - loss: 0.0416 - val_loss: 0.0115\n",
            "Epoch 12/80\n",
            "95/95 [==============================] - 0s 256us/sample - loss: 0.0047 - val_loss: 0.0117\n",
            "Epoch 13/80\n",
            "95/95 [==============================] - 0s 229us/sample - loss: 0.0233 - val_loss: 0.0162\n",
            "Epoch 14/80\n",
            "95/95 [==============================] - 0s 249us/sample - loss: 0.0093 - val_loss: 3.4501e-04\n",
            "Epoch 15/80\n",
            "95/95 [==============================] - 0s 242us/sample - loss: 0.0059 - val_loss: 0.0089\n",
            "Epoch 16/80\n",
            "95/95 [==============================] - 0s 261us/sample - loss: 0.0098 - val_loss: 0.0010\n",
            "Epoch 17/80\n",
            "95/95 [==============================] - 0s 269us/sample - loss: 0.0013 - val_loss: 0.0047\n",
            "Epoch 18/80\n",
            "95/95 [==============================] - 0s 231us/sample - loss: 0.0052 - val_loss: 0.0024\n",
            "Epoch 19/80\n",
            "95/95 [==============================] - 0s 251us/sample - loss: 0.0013 - val_loss: 9.2668e-04\n",
            "Epoch 20/80\n",
            "95/95 [==============================] - 0s 257us/sample - loss: 0.0020 - val_loss: 0.0029\n",
            "Epoch 21/80\n",
            "95/95 [==============================] - 0s 256us/sample - loss: 0.0015 - val_loss: 4.0635e-05\n",
            "Epoch 22/80\n",
            "95/95 [==============================] - 0s 268us/sample - loss: 5.3214e-04 - val_loss: 0.0014\n",
            "Epoch 23/80\n",
            "95/95 [==============================] - 0s 258us/sample - loss: 0.0012 - val_loss: 1.5898e-04\n",
            "Epoch 24/80\n",
            "95/95 [==============================] - 0s 231us/sample - loss: 2.1151e-04 - val_loss: 5.1363e-04\n",
            "Epoch 25/80\n",
            "95/95 [==============================] - 0s 204us/sample - loss: 6.9648e-04 - val_loss: 1.2029e-04\n",
            "Epoch 26/80\n",
            "95/95 [==============================] - 0s 235us/sample - loss: 1.0979e-04 - val_loss: 3.2112e-04\n",
            "Epoch 27/80\n",
            "95/95 [==============================] - 0s 259us/sample - loss: 4.0089e-04 - val_loss: 1.3769e-04\n",
            "Epoch 28/80\n",
            "95/95 [==============================] - 0s 294us/sample - loss: 1.0386e-04 - val_loss: 2.3860e-04\n",
            "Epoch 29/80\n",
            "95/95 [==============================] - 0s 239us/sample - loss: 2.5080e-04 - val_loss: 1.7499e-04\n",
            "Epoch 30/80\n",
            "95/95 [==============================] - 0s 234us/sample - loss: 6.5474e-05 - val_loss: 5.1358e-05\n",
            "Epoch 31/80\n",
            "95/95 [==============================] - 0s 232us/sample - loss: 1.0205e-04 - val_loss: 9.6002e-05\n",
            "Epoch 32/80\n",
            "95/95 [==============================] - 0s 251us/sample - loss: 3.8478e-05 - val_loss: 1.1688e-05\n",
            "Epoch 33/80\n",
            "95/95 [==============================] - 0s 238us/sample - loss: 4.5155e-05 - val_loss: 3.5183e-05\n",
            "Epoch 34/80\n",
            "95/95 [==============================] - 0s 248us/sample - loss: 2.2008e-05 - val_loss: 7.4573e-06\n",
            "Epoch 35/80\n",
            "95/95 [==============================] - 0s 205us/sample - loss: 2.3143e-05 - val_loss: 1.8012e-05\n",
            "Epoch 36/80\n",
            "95/95 [==============================] - 0s 231us/sample - loss: 1.1223e-05 - val_loss: 6.6065e-06\n",
            "Epoch 37/80\n",
            "95/95 [==============================] - 0s 302us/sample - loss: 1.4668e-05 - val_loss: 1.1750e-05\n",
            "Epoch 38/80\n",
            "95/95 [==============================] - 0s 302us/sample - loss: 4.7153e-06 - val_loss: 4.1653e-06\n",
            "Epoch 39/80\n",
            "95/95 [==============================] - 0s 278us/sample - loss: 8.7232e-06 - val_loss: 5.6941e-06\n",
            "Epoch 40/80\n",
            "95/95 [==============================] - 0s 220us/sample - loss: 2.7000e-06 - val_loss: 3.7539e-06\n",
            "Epoch 41/80\n",
            "95/95 [==============================] - 0s 210us/sample - loss: 5.5163e-06 - val_loss: 1.5316e-06\n",
            "Epoch 42/80\n",
            "95/95 [==============================] - 0s 226us/sample - loss: 9.3638e-07 - val_loss: 2.2759e-06\n",
            "Epoch 43/80\n",
            "95/95 [==============================] - 0s 266us/sample - loss: 2.8475e-06 - val_loss: 3.1162e-07\n",
            "Epoch 44/80\n",
            "95/95 [==============================] - 0s 290us/sample - loss: 4.9851e-07 - val_loss: 1.9873e-06\n",
            "Epoch 45/80\n",
            "95/95 [==============================] - 0s 274us/sample - loss: 1.5777e-06 - val_loss: 2.3961e-08\n",
            "Epoch 46/80\n",
            "95/95 [==============================] - 0s 240us/sample - loss: 3.9305e-07 - val_loss: 1.0645e-06\n",
            "Epoch 47/80\n",
            "95/95 [==============================] - 0s 300us/sample - loss: 6.5155e-07 - val_loss: 3.3107e-08\n",
            "Epoch 48/80\n",
            "95/95 [==============================] - 0s 348us/sample - loss: 3.4971e-07 - val_loss: 3.5962e-07\n",
            "Epoch 49/80\n",
            "95/95 [==============================] - 0s 327us/sample - loss: 2.0461e-07 - val_loss: 1.0753e-07\n",
            "Epoch 50/80\n",
            "95/95 [==============================] - 0s 248us/sample - loss: 2.7450e-07 - val_loss: 1.0384e-07\n",
            "Epoch 51/80\n",
            "95/95 [==============================] - 0s 230us/sample - loss: 7.8689e-08 - val_loss: 1.7918e-07\n",
            "Epoch 52/80\n",
            "95/95 [==============================] - 0s 337us/sample - loss: 1.7329e-07 - val_loss: 1.1628e-08\n",
            "Epoch 53/80\n",
            "95/95 [==============================] - 0s 351us/sample - loss: 3.4135e-08 - val_loss: 1.1417e-07\n",
            "Epoch 54/80\n",
            "95/95 [==============================] - 0s 271us/sample - loss: 7.1078e-08 - val_loss: 1.6511e-09\n",
            "Epoch 55/80\n",
            "95/95 [==============================] - 0s 261us/sample - loss: 3.4722e-08 - val_loss: 4.2675e-08\n",
            "Epoch 56/80\n",
            "95/95 [==============================] - 0s 244us/sample - loss: 1.9130e-08 - val_loss: 9.7279e-09\n",
            "Epoch 57/80\n",
            "95/95 [==============================] - 0s 317us/sample - loss: 2.4818e-08 - val_loss: 7.3561e-09\n",
            "Epoch 58/80\n",
            "95/95 [==============================] - 0s 231us/sample - loss: 5.6560e-09 - val_loss: 1.4975e-08\n",
            "Epoch 59/80\n",
            "95/95 [==============================] - 0s 231us/sample - loss: 1.4442e-08 - val_loss: 2.6011e-10\n",
            "Epoch 60/80\n",
            "95/95 [==============================] - 0s 242us/sample - loss: 5.1816e-09 - val_loss: 1.2497e-08\n",
            "Epoch 61/80\n",
            "95/95 [==============================] - 0s 298us/sample - loss: 6.7200e-09 - val_loss: 1.9536e-09\n",
            "Epoch 62/80\n",
            "95/95 [==============================] - 0s 300us/sample - loss: 5.4235e-09 - val_loss: 3.6859e-09\n",
            "Epoch 63/80\n",
            "95/95 [==============================] - 0s 232us/sample - loss: 1.7047e-09 - val_loss: 2.8755e-09\n",
            "Epoch 64/80\n",
            "95/95 [==============================] - 0s 236us/sample - loss: 3.4945e-09 - val_loss: 6.1674e-11\n",
            "Epoch 65/80\n",
            "95/95 [==============================] - 0s 242us/sample - loss: 9.0430e-10 - val_loss: 1.6286e-09\n",
            "Epoch 66/80\n",
            "95/95 [==============================] - 0s 248us/sample - loss: 1.0064e-09 - val_loss: 5.2512e-10\n",
            "Epoch 67/80\n",
            "95/95 [==============================] - 0s 251us/sample - loss: 9.5551e-10 - val_loss: 5.3934e-10\n",
            "Epoch 68/80\n",
            "95/95 [==============================] - 0s 215us/sample - loss: 2.3367e-10 - val_loss: 5.9002e-10\n",
            "Epoch 69/80\n",
            "95/95 [==============================] - 0s 228us/sample - loss: 5.6956e-10 - val_loss: 1.4856e-11\n",
            "Epoch 70/80\n",
            "95/95 [==============================] - 0s 340us/sample - loss: 1.9498e-10 - val_loss: 3.0427e-10\n",
            "Epoch 71/80\n",
            "95/95 [==============================] - 0s 279us/sample - loss: 1.9519e-10 - val_loss: 1.1892e-10\n",
            "Epoch 72/80\n",
            "95/95 [==============================] - 0s 258us/sample - loss: 1.8760e-10 - val_loss: 3.7926e-11\n",
            "Epoch 73/80\n",
            "95/95 [==============================] - 0s 254us/sample - loss: 4.9792e-11 - val_loss: 1.5208e-10\n",
            "Epoch 74/80\n",
            "95/95 [==============================] - 0s 248us/sample - loss: 8.1756e-11 - val_loss: 7.5229e-12\n",
            "Epoch 75/80\n",
            "95/95 [==============================] - 0s 266us/sample - loss: 4.9391e-11 - val_loss: 3.5001e-11\n",
            "Epoch 76/80\n",
            "95/95 [==============================] - 0s 338us/sample - loss: 1.3629e-11 - val_loss: 1.8728e-11\n",
            "Epoch 77/80\n",
            "95/95 [==============================] - 0s 296us/sample - loss: 3.1095e-11 - val_loss: 1.1590e-12\n",
            "Epoch 78/80\n",
            "95/95 [==============================] - 0s 295us/sample - loss: 1.1954e-11 - val_loss: 1.6898e-11\n",
            "Epoch 79/80\n",
            "95/95 [==============================] - 0s 277us/sample - loss: 9.6305e-12 - val_loss: 1.1530e-11\n",
            "Epoch 80/80\n",
            "95/95 [==============================] - 0s 263us/sample - loss: 1.3347e-11 - val_loss: 8.6552e-13\n"
          ],
          "name": "stdout"
        }
      ]
    },
    {
      "cell_type": "code",
      "metadata": {
        "id": "2BA0rLqrsw7i",
        "colab_type": "code",
        "outputId": "32c1ea19-1086-463d-82da-a9c2eab3c0d7",
        "colab": {
          "base_uri": "https://localhost:8080/",
          "height": 282
        }
      },
      "source": [
        "# Plot loss per iteration\n",
        "import matplotlib.pyplot as plt\n",
        "plt.plot(r.history['loss'], label='loss')\n",
        "plt.plot(r.history['val_loss'], label='val_loss')\n",
        "plt.legend()"
      ],
      "execution_count": 5,
      "outputs": [
        {
          "output_type": "execute_result",
          "data": {
            "text/plain": [
              "<matplotlib.legend.Legend at 0x7f83641e4978>"
            ]
          },
          "metadata": {
            "tags": []
          },
          "execution_count": 5
        },
        {
          "output_type": "display_data",
          "data": {
            "image/png": "[encoded data removed]",
            "text/plain": [
              "<Figure size 432x288 with 1 Axes>"
            ]
          },
          "metadata": {
            "tags": []
          }
        }
      ]
    }
  ]
}